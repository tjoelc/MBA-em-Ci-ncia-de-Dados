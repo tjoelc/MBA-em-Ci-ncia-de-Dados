{
 "cells": [
  {
   "cell_type": "markdown",
   "id": "4c985382-54e4-4695-8f7a-72a48cd4826b",
   "metadata": {},
   "source": [
    "# Lista de Exercícios Python básico\n",
    "\n"
   ]
  },
  {
   "cell_type": "markdown",
   "id": "e80bf43f-35b0-4064-84b7-218680e36bf5",
   "metadata": {},
   "source": [
    "aluno : joel campos teixeira "
   ]
  },
  {
   "cell_type": "markdown",
   "id": "f7de7a23-efef-4e3d-b55f-8c147057a8ff",
   "metadata": {},
   "source": [
    "\"Crie uma lista com os números de 1 a 10 e exiba-a.\""
   ]
  },
  {
   "cell_type": "code",
   "execution_count": 76,
   "id": "d3d7184a-bce5-4cbb-966e-e49b1af122c0",
   "metadata": {},
   "outputs": [
    {
     "data": {
      "text/plain": [
       "[1, 2, 3, 4, 5, 6, 7, 8, 9, 10]"
      ]
     },
     "execution_count": 76,
     "metadata": {},
     "output_type": "execute_result"
    }
   ],
   "source": [
    "ls=[1,2,3,4,5,6,7,8,9,10]\n",
    "ls"
   ]
  },
  {
   "cell_type": "markdown",
   "id": "c9fcd7d7-d291-4998-ac31-20256778d915",
   "metadata": {},
   "source": [
    "Use o range() para gerar uma lista de números pares de 2 a 20 e exiba-a."
   ]
  },
  {
   "cell_type": "code",
   "execution_count": 82,
   "id": "4d8f9439-170e-45d0-846c-8bef80ea8440",
   "metadata": {},
   "outputs": [
    {
     "data": {
      "text/plain": [
       "array([ 2,  4,  6,  8, 10, 12, 14, 16, 18, 20])"
      ]
     },
     "execution_count": 82,
     "metadata": {},
     "output_type": "execute_result"
    }
   ],
   "source": [
    "l= np.arange(2,21,2)\n",
    "l"
   ]
  },
  {
   "cell_type": "markdown",
   "id": "75d71d46-bbc6-440e-a3f0-12d3da7ad846",
   "metadata": {},
   "source": [
    "\"Crie uma lista de nomes e exiba o segundo e o último nome da lista."
   ]
  },
  {
   "cell_type": "code",
   "execution_count": 85,
   "id": "eda047de-3dcd-4452-848e-daa94fa89c35",
   "metadata": {},
   "outputs": [
    {
     "data": {
      "text/plain": [
       "('name-01', 'name-02')"
      ]
     },
     "execution_count": 85,
     "metadata": {},
     "output_type": "execute_result"
    }
   ],
   "source": [
    "names=['name-0'+str(i) for i in range(1,10)]\n",
    "names[0],names[1]"
   ]
  },
  {
   "cell_type": "markdown",
   "id": "83350f79-32ba-47dd-84cd-2ec2ed91ff5c",
   "metadata": {},
   "source": [
    "\"Use o slicing para obter os três primeiros itens de uma lista [10, 20, 30, 40, 50, 60]."
   ]
  },
  {
   "cell_type": "code",
   "execution_count": 88,
   "id": "e0d5a711-9885-4892-b0ed-96a7bc71fc7e",
   "metadata": {},
   "outputs": [
    {
     "data": {
      "text/plain": [
       "[10, 20, 30]"
      ]
     },
     "execution_count": 88,
     "metadata": {},
     "output_type": "execute_result"
    }
   ],
   "source": [
    "ls1=[10,20,30,40,50,60]\n",
    "ls1[:3]"
   ]
  },
  {
   "cell_type": "markdown",
   "id": "25523dc6-ff6c-4b23-aa8b-0a86ebb7f7f3",
   "metadata": {},
   "source": [
    "Use o slicing para obter os últimos três itens de uma lista [10, 20, 30, 40, 50, 60]."
   ]
  },
  {
   "cell_type": "code",
   "execution_count": 92,
   "id": "b035c383-ba60-48dd-bbde-00147cf75e4d",
   "metadata": {},
   "outputs": [
    {
     "data": {
      "text/plain": [
       "[40, 50, 60]"
      ]
     },
     "execution_count": 92,
     "metadata": {},
     "output_type": "execute_result"
    }
   ],
   "source": [
    "ls1[-3:]"
   ]
  },
  {
   "cell_type": "markdown",
   "id": "1eb3b2be-2d63-4939-a8b1-accd74a25dc6",
   "metadata": {},
   "source": [
    "Defina um dicionário chamado aluno com chaves nome, idade e curso. Atribua valores e exiba o dicionário."
   ]
  },
  {
   "cell_type": "code",
   "execution_count": 146,
   "id": "b0135af4-1e66-43de-9375-e4acbfab6dfd",
   "metadata": {},
   "outputs": [
    {
     "data": {
      "text/plain": [
       "{'nome': 'Joel', 'idade': '52', 'curso': 'ciencia de dados'}"
      ]
     },
     "execution_count": 146,
     "metadata": {},
     "output_type": "execute_result"
    }
   ],
   "source": [
    "aluno={'nome':'Joel','idade':'52','curso':'ciencia de dados'}\n",
    "aluno"
   ]
  },
  {
   "cell_type": "markdown",
   "id": "27a12188-fa2b-4c1e-aca1-75eb94a78f47",
   "metadata": {},
   "source": [
    "Adicione uma nova chave nota ao dicionário aluno e atribua um valor."
   ]
  },
  {
   "cell_type": "code",
   "execution_count": 147,
   "id": "ec048498-4458-4ff5-a98b-8d25398d7f58",
   "metadata": {},
   "outputs": [
    {
     "data": {
      "text/plain": [
       "{'nome': 'Joel', 'idade': '52', 'curso': 'ciencia de dados', 'nota': 7}"
      ]
     },
     "execution_count": 147,
     "metadata": {},
     "output_type": "execute_result"
    }
   ],
   "source": [
    "aluno['nota']=7\n",
    "aluno"
   ]
  },
  {
   "cell_type": "markdown",
   "id": "0036c4f1-5d96-43d8-83f0-54cff16857a1",
   "metadata": {},
   "source": [
    "Modifique o valor da chave idade no dicionário aluno para um valor novo e exiba o dicionário atualizado."
   ]
  },
  {
   "cell_type": "code",
   "execution_count": 148,
   "id": "2e3cc805-bfae-4b1b-b827-24b8c5eda893",
   "metadata": {},
   "outputs": [
    {
     "data": {
      "text/plain": [
       "{'nome': 'Joel', 'idade': 55, 'curso': 'ciencia de dados', 'nota': 7}"
      ]
     },
     "execution_count": 148,
     "metadata": {},
     "output_type": "execute_result"
    }
   ],
   "source": [
    "aluno['idade']=55\n",
    "aluno"
   ]
  },
  {
   "cell_type": "markdown",
   "id": "b40a72ba-08ba-4cad-91ae-2f5304b5bf62",
   "metadata": {},
   "source": [
    "Crie uma lista chamada alunos que contenha três dicionários, cada um representando um aluno com nome e nota."
   ]
  },
  {
   "cell_type": "code",
   "execution_count": 149,
   "id": "e4cd98af-1a25-489c-a54e-84e65695ae96",
   "metadata": {},
   "outputs": [],
   "source": [
    "aluno1=aluno\n",
    "aluno1['nome']= 'rosana'\n",
    "aluno1['idade']=52\n",
    "aluno1['curso']='estatistica'\n",
    "aluno1['nota']=6\n"
   ]
  },
  {
   "cell_type": "code",
   "execution_count": 150,
   "id": "8af703aa-be5f-4a5f-9b1b-8d6fa02cedbd",
   "metadata": {},
   "outputs": [],
   "source": [
    "aluno2=aluno\n",
    "aluno1['nome']= 'mia'\n",
    "aluno1['idade']=22\n",
    "aluno1['curso']='machine learnig'\n",
    "aluno1['nota']=4"
   ]
  },
  {
   "cell_type": "code",
   "execution_count": 151,
   "id": "26565157-c3d9-4444-8142-d2455cbe6e9c",
   "metadata": {},
   "outputs": [],
   "source": [
    "alunos=[]\n",
    "#alunos.append(aluno)\n"
   ]
  },
  {
   "cell_type": "code",
   "execution_count": 153,
   "id": "f1498448-a24d-4be4-9aaa-18fd6dcc6fd8",
   "metadata": {},
   "outputs": [
    {
     "data": {
      "text/plain": [
       "[{'nome': 'mia', 'idade': 22, 'curso': 'machine learnig', 'nota': 4},\n",
       " {'nome': 'mia', 'idade': 22, 'curso': 'machine learnig', 'nota': 4}]"
      ]
     },
     "execution_count": 153,
     "metadata": {},
     "output_type": "execute_result"
    }
   ],
   "source": [
    "alunos.append(aluno)\n",
    "alunos"
   ]
  },
  {
   "cell_type": "markdown",
   "id": "dff8945d-b023-4ff0-affe-e07577940fa3",
   "metadata": {},
   "source": [
    "Acesse o nome do segundo aluno na lista de dicionários alunos."
   ]
  },
  {
   "cell_type": "code",
   "execution_count": 154,
   "id": "3fa807ea-4ec7-47e5-a412-d4568e33e2b9",
   "metadata": {},
   "outputs": [
    {
     "data": {
      "text/plain": [
       "'mia'"
      ]
     },
     "execution_count": 154,
     "metadata": {},
     "output_type": "execute_result"
    }
   ],
   "source": [
    "alunos[1]['nome']"
   ]
  },
  {
   "cell_type": "code",
   "execution_count": 142,
   "id": "e1feb4e2-c4c4-46a9-b41a-a395a2a5d02f",
   "metadata": {},
   "outputs": [
    {
     "data": {
      "text/plain": [
       "[{'nome': 'Joel', 'idade': 55, 'curso': 'ciencia de dados', 'nota': 7},\n",
       " {'nome': ('mia',), 'idade': (22,), 'curso': ('machine learnig',), 'nota': 4},\n",
       " {'nome': ('mia',), 'idade': (22,), 'curso': ('machine learnig',), 'nota': 4},\n",
       " {'nome': ('mia',), 'idade': (22,), 'curso': ('machine learnig',), 'nota': 4}]"
      ]
     },
     "execution_count": 142,
     "metadata": {},
     "output_type": "execute_result"
    }
   ],
   "source": [
    "alunos"
   ]
  },
  {
   "cell_type": "markdown",
   "id": "ceb7ab42-7e14-4b10-98e8-c970a4cc280c",
   "metadata": {},
   "source": [
    "Adicione um campo idade ao primeiro dicionário da lista alunos."
   ]
  },
  {
   "cell_type": "code",
   "execution_count": 157,
   "id": "5ebba80e-cef3-42c1-8b52-36148d62d9c5",
   "metadata": {},
   "outputs": [
    {
     "data": {
      "text/plain": [
       "[{'nome': 'mia', 'idade': 33, 'curso': 'machine learnig', 'nota': 4},\n",
       " {'nome': 'mia', 'idade': 33, 'curso': 'machine learnig', 'nota': 4}]"
      ]
     },
     "execution_count": 157,
     "metadata": {},
     "output_type": "execute_result"
    }
   ],
   "source": [
    "alunos[1]['idade']=33\n",
    "alunos"
   ]
  },
  {
   "cell_type": "markdown",
   "id": "7d2e14f8-4753-42dc-a6f3-50ef572df907",
   "metadata": {},
   "source": [
    "Crie uma lista de 5 números e exiba o maior e o menor número usando as funções max() e min()."
   ]
  },
  {
   "cell_type": "code",
   "execution_count": 165,
   "id": "ced2654a-1c6c-4fd1-9fbd-57ae1ba6ca89",
   "metadata": {},
   "outputs": [],
   "source": [
    "ran=range(1,6)\n",
    "ls2=np.arange(1,6)\n",
    "import numpy as np"
   ]
  },
  {
   "cell_type": "code",
   "execution_count": 171,
   "id": "8317dea7-cd92-46e1-9636-75990951b8b6",
   "metadata": {},
   "outputs": [
    {
     "name": "stdout",
     "output_type": "stream",
     "text": [
      "minimo 1 maximo 39\n"
     ]
    }
   ],
   "source": [
    "for i in range(1,6):\n",
    "    num= np.random.randint(1,50)\n",
    "    ls2[i-1]= num\n",
    "print('minimo '+str(min(ls2)),'maximo '+str(max(ls2)))"
   ]
  },
  {
   "cell_type": "markdown",
   "id": "e96b9a74-5732-4f9f-ab3b-fdf8b47abe80",
   "metadata": {},
   "source": [
    "Use um loop for para somar todos os elementos de uma lista [1, 2, 3, 4, 5]."
   ]
  },
  {
   "cell_type": "code",
   "execution_count": 184,
   "id": "982d0291-6db1-4e16-b562-06e822d9a8e4",
   "metadata": {},
   "outputs": [
    {
     "name": "stdout",
     "output_type": "stream",
     "text": [
      "1\n",
      "3\n",
      "6\n",
      "10\n",
      "15\n"
     ]
    }
   ],
   "source": [
    "lst= [1, 2, 3, 4, 5]\n",
    "soma =0\n",
    "for i in lst:\n",
    "    soma += i\n",
    "    print(soma)"
   ]
  },
  {
   "cell_type": "markdown",
   "id": "ee4621bf-24fe-498d-90b2-7927bf489efd",
   "metadata": {},
   "source": [
    "Crie uma lista com os quadrados dos números de 1 a 10."
   ]
  },
  {
   "cell_type": "code",
   "execution_count": 185,
   "id": "187f9659-cb5c-413b-8e33-8c81dbc58902",
   "metadata": {},
   "outputs": [
    {
     "data": {
      "text/plain": [
       "[1, 4, 9, 16, 25, 36, 49, 64, 81, 100]"
      ]
     },
     "execution_count": 185,
     "metadata": {},
     "output_type": "execute_result"
    }
   ],
   "source": [
    "lsquad= [x**2 for x in range(1,11)]\n",
    "lsquad"
   ]
  },
  {
   "cell_type": "markdown",
   "id": "f47da194-ab17-42da-8284-544afa64d47c",
   "metadata": {},
   "source": [
    " "
   ]
  },
  {
   "cell_type": "markdown",
   "id": "412e0d6d-9d37-4259-ae04-02dc16034f3b",
   "metadata": {},
   "source": [
    "Crie uma lista de dicionários representando três produtos, com nome e preço. Em seguida, use um loop para exibir o nome e o preço de cada produto."
   ]
  },
  {
   "cell_type": "code",
   "execution_count": 188,
   "id": "30eebc36-c9ad-4982-9901-e91e5052dce7",
   "metadata": {},
   "outputs": [],
   "source": [
    "produto={'nome':'','preço':''}\n"
   ]
  },
  {
   "cell_type": "code",
   "execution_count": 191,
   "id": "dc27138a-6c6e-4cab-a1c3-ead15dcf9d26",
   "metadata": {},
   "outputs": [
    {
     "data": {
      "text/plain": [
       "[{'nome': '', 'preço': ''}]"
      ]
     },
     "execution_count": 191,
     "metadata": {},
     "output_type": "execute_result"
    }
   ],
   "source": [
    "produtos=[]\n",
    "produtos.append(produto)\n",
    "produtos"
   ]
  },
  {
   "cell_type": "code",
   "execution_count": 193,
   "id": "73349f4a-af66-44b8-b0af-e7fbab42bcb4",
   "metadata": {},
   "outputs": [
    {
     "data": {
      "text/plain": [
       "[{'nome': '', 'preço': ''},\n",
       " {'nome': '', 'preço': ''},\n",
       " {'nome': '', 'preço': ''}]"
      ]
     },
     "execution_count": 193,
     "metadata": {},
     "output_type": "execute_result"
    }
   ],
   "source": [
    "produtos.append(produto)\n",
    "produtos"
   ]
  },
  {
   "cell_type": "code",
   "execution_count": null,
   "id": "9c08a6ee-1d0e-481c-91e9-349fe5e11b6d",
   "metadata": {},
   "outputs": [],
   "source": []
  },
  {
   "cell_type": "code",
   "execution_count": 233,
   "id": "0fb4bcc7-a671-4082-a8e5-44c5e7b5dc66",
   "metadata": {},
   "outputs": [],
   "source": [
    "produtos[0]['nome']='arroz'\n",
    "produtos[0]['preço']=35.00"
   ]
  },
  {
   "cell_type": "code",
   "execution_count": 236,
   "id": "fd8676cf-8685-4159-bc6b-6b18ac198f77",
   "metadata": {},
   "outputs": [],
   "source": [
    "produtos = [\n",
    "    {\"nome\": \"Produto 1\", \"preço\": 10.5},\n",
    "    {\"nome\": \"Produto 2\", \"preço\": 15.0},\n",
    "    {\"nome\": \"Produto 3\", \"preço\": 8.75}]"
   ]
  },
  {
   "cell_type": "code",
   "execution_count": 229,
   "id": "ba10c056-3c45-4ca9-b4ab-bd824e684590",
   "metadata": {},
   "outputs": [],
   "source": [
    "produtos[1]['nome']='feijão'\n",
    "produtos[1]['preço']=6.00"
   ]
  },
  {
   "cell_type": "code",
   "execution_count": 226,
   "id": "42dbb746-7b96-44c2-aabf-e21bee7be953",
   "metadata": {},
   "outputs": [
    {
     "data": {
      "text/plain": [
       "{'nome': 'feijão', 'preço': 6.0}"
      ]
     },
     "execution_count": 226,
     "metadata": {},
     "output_type": "execute_result"
    }
   ],
   "source": [
    "produtos[1]"
   ]
  },
  {
   "cell_type": "code",
   "execution_count": 227,
   "id": "7b52ee4e-d99b-4ca9-a6e3-cf79f2f2de8c",
   "metadata": {},
   "outputs": [],
   "source": [
    "produtos[2]['nome']='café'\n",
    "produtos[2]['preço']=17.00"
   ]
  },
  {
   "cell_type": "code",
   "execution_count": 232,
   "id": "cdad3caa-2dd6-4266-a0c2-fef612e065ae",
   "metadata": {},
   "outputs": [
    {
     "data": {
      "text/plain": [
       "dict"
      ]
     },
     "execution_count": 232,
     "metadata": {},
     "output_type": "execute_result"
    }
   ],
   "source": [
    "type(produto)"
   ]
  },
  {
   "cell_type": "code",
   "execution_count": 237,
   "id": "13dbad2f-21f3-4610-aef3-961c18944182",
   "metadata": {},
   "outputs": [
    {
     "name": "stdout",
     "output_type": "stream",
     "text": [
      "Produto 1: R$ 10.5\n",
      "Produto 2: R$ 15.0\n",
      "Produto 3: R$ 8.75\n"
     ]
    }
   ],
   "source": [
    "for produto in produtos:\n",
    "    print(f\"{produto['nome']}: R$ {produto['preço']}\")\n",
    "   "
   ]
  },
  {
   "cell_type": "code",
   "execution_count": 199,
   "id": "c370992d-a7fb-4668-917b-b590d253b93d",
   "metadata": {},
   "outputs": [
    {
     "data": {
      "text/plain": [
       "dict_keys(['nome', 'preço'])"
      ]
     },
     "execution_count": 199,
     "metadata": {},
     "output_type": "execute_result"
    }
   ],
   "source": [
    "produto.keys()\n",
    "#produto.items()"
   ]
  },
  {
   "cell_type": "markdown",
   "id": "1430e5f5-dff2-4d06-adda-c3c4268b91ae",
   "metadata": {},
   "source": [
    "Verifique se um número está na lista [10, 20, 30, 40] e exiba uma mensagem apropriada."
   ]
  },
  {
   "cell_type": "markdown",
   "id": "bf207584-46fc-4f6d-8a1d-73c6820e2b42",
   "metadata": {},
   "source": []
  },
  {
   "cell_type": "markdown",
   "id": "f0dc498f-197f-4231-a4f6-d4dab1585c3f",
   "metadata": {},
   "source": [
    "Crie uma lista de frutas e verifique se a fruta 'banana' está na lista. Se estiver, exiba \"Banana encontrada!\"."
   ]
  },
  {
   "cell_type": "code",
   "execution_count": 238,
   "id": "98284ad3-4283-4391-8d07-175a45a99dda",
   "metadata": {},
   "outputs": [
    {
     "data": {
      "text/plain": [
       "['banana', 'maça', 'uva', 'pera', 'goiaba', 'tomate']"
      ]
     },
     "execution_count": 238,
     "metadata": {},
     "output_type": "execute_result"
    }
   ],
   "source": [
    "frutas=['banana','maça','uva','pera','goiaba','tomate']\n",
    "frutas"
   ]
  },
  {
   "cell_type": "code",
   "execution_count": 245,
   "id": "e4c5a630-4003-4f82-98c1-ff44a8361e73",
   "metadata": {},
   "outputs": [
    {
     "name": "stdout",
     "output_type": "stream",
     "text": [
      "Achou a pera\n"
     ]
    }
   ],
   "source": [
    "for fruta in frutas:\n",
    "    procura =fruta\n",
    "    if fruta == 'pera':\n",
    "        print('Achou a ' + fruta)\n",
    "    "
   ]
  },
  {
   "cell_type": "markdown",
   "id": "d42aa2be-7877-4d57-b378-e7a87350c380",
   "metadata": {},
   "source": [
    "Ordene uma lista [3, 5, 2, 8, 1] em ordem crescente e exiba-a."
   ]
  },
  {
   "cell_type": "code",
   "execution_count": 247,
   "id": "81365ea3-1c31-412c-bab0-30f5c0847690",
   "metadata": {},
   "outputs": [
    {
     "data": {
      "text/plain": [
       "[1, 2, 3, 5, 8]"
      ]
     },
     "execution_count": 247,
     "metadata": {},
     "output_type": "execute_result"
    }
   ],
   "source": [
    "ista = [3, 5, 2, 8, 1]\n",
    "ista.sort()\n",
    "ista"
   ]
  },
  {
   "cell_type": "markdown",
   "id": "c629846b-f845-4986-a7f2-cfee640705dc",
   "metadata": {},
   "source": [
    "Remova todos os valores duplicados de uma lista [1, 2, 2, 3, 4, 4, 5]."
   ]
  },
  {
   "cell_type": "code",
   "execution_count": 250,
   "id": "b52a671c-a1d9-4426-b4c4-291a3c5768d5",
   "metadata": {},
   "outputs": [
    {
     "name": "stdout",
     "output_type": "stream",
     "text": [
      "[1, 2, 3, 4, 5]\n"
     ]
    }
   ],
   "source": [
    "lista = [1, 2, 2, 3, 4, 4, 5]\n",
    "for item in lista:\n",
    "     if lista[item-1] == lista[item-2]:\n",
    "         lista.pop(item-2)\n",
    "print(lista)"
   ]
  },
  {
   "cell_type": "markdown",
   "id": "352460f1-40bf-4764-bec3-ac0141d572c6",
   "metadata": {},
   "source": [
    "Crie um dicionário onde as chaves são números de 1 a 5 e os valores são seus quadrados."
   ]
  },
  {
   "cell_type": "code",
   "execution_count": 251,
   "id": "7ad887f4-f25d-4593-851e-5a6bbb1bb2d3",
   "metadata": {},
   "outputs": [
    {
     "data": {
      "text/plain": [
       "{1: 1, 2: 4, 3: 9, 4: 16, 5: 25}"
      ]
     },
     "execution_count": 251,
     "metadata": {},
     "output_type": "execute_result"
    }
   ],
   "source": [
    "dic ={x:x**2 for x in range(1,6)}\n",
    "dic"
   ]
  },
  {
   "cell_type": "markdown",
   "id": "972b414c-1236-4021-a813-22f9d9f22289",
   "metadata": {},
   "source": [
    "Lista de Respostas com os Códigos\n",
    "python\n",
    "Copiar código\n",
    "# 1\n",
    "lista = list(range(1, 11))\n",
    "print(lista)\n",
    "\n",
    "# 2\n",
    "numeros_pares = list(range(2, 21, 2))\n",
    "print(numeros_pares)\n",
    "\n",
    "# 3\n",
    "nomes = [\"Ana\", \"Bruno\", \"Carlos\", \"Daniel\", \"Elisa\"]\n",
    "print(nomes[1], nomes[-1])\n",
    "\n",
    "# 4\n",
    "lista = [10, 20, 30, 40, 50, 60]\n",
    "print(lista[:3])\n",
    "\n",
    "# 5\n",
    "print(lista[-3:])\n",
    "\n",
    "# 6\n",
    "aluno = {\"nome\": \"João\", \"idade\": 21, \"curso\": \"Matemática\"}\n",
    "print(aluno)\n",
    "\n",
    "# 7\n",
    "aluno[\"nota\"] = 8.5\n",
    "print(aluno)\n",
    "\n",
    "# 8\n",
    "aluno[\"idade\"] = 22\n",
    "print(aluno)\n",
    "\n",
    "# 9\n",
    "alunos = [\n",
    "    {\"nome\": \"Ana\", \"nota\": 7.5},\n",
    "    {\"nome\": \"Bruno\", \"nota\": 9.0},\n",
    "    {\"nome\": \"Carlos\", \"nota\": 8.0}\n",
    "]\n",
    "\n",
    "# 10\n",
    "print(alunos[1][\"nome\"])\n",
    "\n",
    "# 11\n",
    "alunos[0][\"idade\"] = 20\n",
    "print(alunos)\n",
    "\n",
    "# 12\n",
    "numeros = [15, 7, 20, 10, 8]\n",
    "print(\"Maior:\", max(numeros))\n",
    "print(\"Menor:\", min(numeros))\n",
    "\n",
    "# 13\n",
    "lista = [1, 2, 3, 4, 5]\n",
    "soma = 0\n",
    "for num in lista:\n",
    "    soma += num\n",
    "print(soma)\n",
    "\n",
    "# 14\n",
    "quadrados = [x ** 2 for x in range(1, 11)]\n",
    "print(quadrados)\n",
    "\n",
    "# 15\n",
    "produtos = [\n",
    "    {\"nome\": \"Produto 1\", \"preço\": 10.5},\n",
    "    {\"nome\": \"Produto 2\", \"preço\": 15.0},\n",
    "    {\"nome\": \"Produto 3\", \"preço\": 8.75}\n",
    "]\n",
    "for produto in produtos:\n",
    "    print(f\"{produto['nome']}: R$ {produto['preço']}\")\n",
    "\n",
    "# 16\n",
    "numeros = [10, 20, 30, 40]\n",
    "numero = 25\n",
    "if numero in numeros:\n",
    "    print(\"Número encontrado!\")\n",
    "else:\n",
    "    print(\"Número não encontrado.\")\n",
    "\n",
    "# 17\n",
    "frutas = [\"maçã\", \"banana\", \"laranja\"]\n",
    "if \"banana\" in frutas:\n",
    "    print(\"Banana encontrada!\")\n",
    "\n",
    "# 18\n",
    "lista = [3, 5, 2, 8, 1]\n",
    "lista.sort()\n",
    "print(lista)\n",
    "\n",
    "# 19\n",
    "numeros = [1, 2, 2, 3, 4, 4, 5]\n",
    "numeros_unicos = list(set(numeros))\n",
    "print(numeros_unicos)\n",
    "\n",
    "# 20\n",
    "quadrados_dict = {x: x**2 for x in range(1, 6)}\n",
    "print(quadrados_dict)\n",
    "\n",
    "import numpy as np\n",
    "lista = np.arange(1,11)\n",
    "lista"
   ]
  },
  {
   "cell_type": "markdown",
   "id": "8729e658-c412-4d46-b035-477682143871",
   "metadata": {},
   "source": [
    "2.Use o range() para gerar uma lista de números pares de 2 a 20 e exiba-a."
   ]
  },
  {
   "cell_type": "code",
   "execution_count": 10,
   "id": "87578e04-cf45-4202-a8c4-e8afd551f3aa",
   "metadata": {},
   "outputs": [
    {
     "data": {
      "text/plain": [
       "array([ 2,  4,  6,  8, 10, 12, 14, 16, 18, 20])"
      ]
     },
     "execution_count": 10,
     "metadata": {},
     "output_type": "execute_result"
    }
   ],
   "source": [
    "ls2 = np.arange(2,21,2)\n",
    "ls2\n",
    "            "
   ]
  },
  {
   "cell_type": "markdown",
   "id": "4b17ce2a-eae9-40e3-82ad-5d19560e358e",
   "metadata": {},
   "source": [
    "3.Crie uma lista de nomes e exiba o segundo e o último nome da lista."
   ]
  },
  {
   "cell_type": "code",
   "execution_count": 12,
   "id": "2179c7a6-0b71-4e4a-a298-eab6f1deae21",
   "metadata": {},
   "outputs": [
    {
     "data": {
      "text/plain": [
       "'nome1'"
      ]
     },
     "execution_count": 12,
     "metadata": {},
     "output_type": "execute_result"
    }
   ],
   "source": [
    "ls2=['nome'+str(x) for x in range(1,6)]\n",
    "ls2\n",
    "ls2[0]"
   ]
  },
  {
   "cell_type": "code",
   "execution_count": 13,
   "id": "4afdde80-977c-483a-bacb-7e7cf496312e",
   "metadata": {},
   "outputs": [
    {
     "data": {
      "text/plain": [
       "'nome5'"
      ]
     },
     "execution_count": 13,
     "metadata": {},
     "output_type": "execute_result"
    }
   ],
   "source": [
    "ls2[-1]"
   ]
  },
  {
   "cell_type": "markdown",
   "id": "e1664ab3-2d6c-4a7f-a467-a9019f535f1a",
   "metadata": {},
   "source": [
    "4.Use o slicing para obter os três primeiros itens de uma lista [10, 20, 30, 40, 50, 60]."
   ]
  },
  {
   "cell_type": "code",
   "execution_count": 14,
   "id": "4294c9b9-abbf-4ea6-93dd-65dd7f5459c8",
   "metadata": {},
   "outputs": [],
   "source": [
    "num = [10, 20, 30, 40, 50, 60]\n"
   ]
  },
  {
   "cell_type": "code",
   "execution_count": 17,
   "id": "f1bfce3b-752c-4839-88e2-af052504332e",
   "metadata": {},
   "outputs": [
    {
     "data": {
      "text/plain": [
       "[10, 20, 30]"
      ]
     },
     "execution_count": 17,
     "metadata": {},
     "output_type": "execute_result"
    }
   ],
   "source": [
    "num[:3]"
   ]
  },
  {
   "cell_type": "markdown",
   "id": "591b85b9-2383-4896-800b-ab466c588610",
   "metadata": {},
   "source": [
    "6. Defina um dicionário chamado aluno com chaves nome, idade e curso. Atribua valores e exiba o dicionário."
   ]
  },
  {
   "cell_type": "code",
   "execution_count": 19,
   "id": "3c68838e-bf47-4caa-b9fe-5999eb4119c4",
   "metadata": {},
   "outputs": [
    {
     "data": {
      "text/plain": [
       "{'nome': 'Joel', 'idade': '52', 'curso': 'ciencia de dados'}"
      ]
     },
     "execution_count": 19,
     "metadata": {},
     "output_type": "execute_result"
    }
   ],
   "source": [
    "aluno={'nome':'Joel','idade':'52','curso':'ciencia de dados'}\n",
    "aluno"
   ]
  },
  {
   "cell_type": "markdown",
   "id": "a5e5a739-5457-4780-aea0-b184a3633691",
   "metadata": {},
   "source": [
    "7. Adicione uma nova chave nota ao dicionário aluno e atribua um valor."
   ]
  },
  {
   "cell_type": "code",
   "execution_count": 23,
   "id": "c910b4b5-8a76-4a49-b977-f6d432313661",
   "metadata": {},
   "outputs": [],
   "source": [
    "aluno['nota']='7'"
   ]
  },
  {
   "cell_type": "code",
   "execution_count": 24,
   "id": "c743b2d4-d9f8-4f50-b1b5-74f6789ea47e",
   "metadata": {},
   "outputs": [
    {
     "data": {
      "text/plain": [
       "{'nome': 'Joel', 'idade': '52', 'curso': 'ciencia de dados', 'nota': '7'}"
      ]
     },
     "execution_count": 24,
     "metadata": {},
     "output_type": "execute_result"
    }
   ],
   "source": [
    "aluno"
   ]
  },
  {
   "cell_type": "markdown",
   "id": "76c4b139-4bc4-4937-bca4-0bb12053753b",
   "metadata": {},
   "source": [
    "8. Modifique o valor da chave idade no dicionário aluno para um valor novo e exiba o dicionário atualizado."
   ]
  },
  {
   "cell_type": "code",
   "execution_count": 27,
   "id": "f6a8d9e3-cee9-40d9-ae9b-b853a7db39ad",
   "metadata": {},
   "outputs": [
    {
     "data": {
      "text/plain": [
       "dict_keys(['nome', 'idade', 'curso', 'nota'])"
      ]
     },
     "execution_count": 27,
     "metadata": {},
     "output_type": "execute_result"
    }
   ],
   "source": [
    "aluno.keys()"
   ]
  },
  {
   "cell_type": "code",
   "execution_count": 28,
   "id": "073f709f-d188-4e2e-b631-8e43a158d912",
   "metadata": {},
   "outputs": [],
   "source": [
    "aluno['idade']=66"
   ]
  },
  {
   "cell_type": "code",
   "execution_count": 29,
   "id": "f3e751aa-0ea2-48ab-9e2e-d9d8176398fa",
   "metadata": {},
   "outputs": [
    {
     "data": {
      "text/plain": [
       "{'nome': 'Joel', 'idade': 66, 'curso': 'ciencia de dados', 'nota': '7'}"
      ]
     },
     "execution_count": 29,
     "metadata": {},
     "output_type": "execute_result"
    }
   ],
   "source": [
    "aluno"
   ]
  },
  {
   "cell_type": "code",
   "execution_count": 30,
   "id": "d7e6b394-eac2-49d4-871b-d2a1344ebadc",
   "metadata": {},
   "outputs": [],
   "source": [
    "aluno1=aluno\n",
    "aluno2= aluno\n",
    "alunos=[]"
   ]
  },
  {
   "cell_type": "code",
   "execution_count": 35,
   "id": "7e893009-1c52-41bb-ab51-441c6ba4b61c",
   "metadata": {},
   "outputs": [],
   "source": [
    "aluno1['nome']='Eneisa'\n",
    "aluno1['idade']=33\n",
    "aluno1['curso']='Ciencia de dados'\n",
    "aluno1['nota']= 8\n",
    "aluno2['nome']='MARIA'\n",
    "aluno2['idade']=55\n",
    "aluno2['curso']='Ciencia de dados'\n",
    "aluno2['nota']= 5\n",
    "alunos.append(aluno)\n",
    "alunos.append(aluno1)\n",
    "alunos.append(aluno2)"
   ]
  },
  {
   "cell_type": "code",
   "execution_count": 36,
   "id": "0c64e2b2-cf3b-4b87-bedf-0745d8cccd7a",
   "metadata": {},
   "outputs": [
    {
     "data": {
      "text/plain": [
       "{'nome': 'MARIA', 'idade': 55, 'curso': 'Ciencia de dados', 'nota': 5}"
      ]
     },
     "execution_count": 36,
     "metadata": {},
     "output_type": "execute_result"
    }
   ],
   "source": [
    "alunos[1]"
   ]
  },
  {
   "cell_type": "markdown",
   "id": "e9eacc2e-b7d6-464e-a774-962c73d66774",
   "metadata": {},
   "source": [
    "Crie uma lista de 5 números e exiba o maior e o menor número usando as funções max() e min()."
   ]
  },
  {
   "cell_type": "code",
   "execution_count": 40,
   "id": "27150b46-4b2f-409d-979b-2c0973c68c07",
   "metadata": {},
   "outputs": [
    {
     "data": {
      "text/plain": [
       "numpy.ndarray"
      ]
     },
     "execution_count": 40,
     "metadata": {},
     "output_type": "execute_result"
    }
   ],
   "source": [
    "lst =np.arange(0,5)\n",
    "type(lst)"
   ]
  }
 ],
 "metadata": {
  "kernelspec": {
   "display_name": "Python 3 (ipykernel)",
   "language": "python",
   "name": "python3"
  },
  "language_info": {
   "codemirror_mode": {
    "name": "ipython",
    "version": 3
   },
   "file_extension": ".py",
   "mimetype": "text/x-python",
   "name": "python",
   "nbconvert_exporter": "python",
   "pygments_lexer": "ipython3",
   "version": "3.10.12"
  }
 },
 "nbformat": 4,
 "nbformat_minor": 5
}
