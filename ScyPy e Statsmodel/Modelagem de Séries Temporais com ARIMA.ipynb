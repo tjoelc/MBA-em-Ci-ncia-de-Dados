{
 "cells": [
  {
   "cell_type": "markdown",
   "id": "8cfc3725-55f2-4520-88fe-01c48f712cd0",
   "metadata": {},
   "source": [
    "## Modelagem de Séries Temporais com ARIMA\n",
    "### Exercício\n",
    "\n",
    "Utilizando o conjunto de dados fornecido, realize as\n",
    "seguintes atividades para desenvolvimento de modelos\n",
    "preditivos e exploratórios robustos para entender padrões temporais e comportamentos categóricos nos dados deconsumo de energia:\n",
    "#### Ajuste um modelo ARIMA \n",
    "para prever o consumo de\n",
    "energia (Usage_kWh) com base nas variáveis\n",
    "relacionadas, como potência reativa e CO2.\n",
    "Regressão Logística\n",
    "#### Ajuste um modelo de regressão logística para prever o tipo de carga (Tipo de carga) com base nas variáveis como consumo de energia, potência reativa, etc."
   ]
  },
  {
   "cell_type": "code",
   "execution_count": 3,
   "id": "a09f4728-6ac4-4b24-9b4d-6d8c888ac559",
   "metadata": {},
   "outputs": [],
   "source": [
    "#importando as bibliotecas \n",
    "import numpy as np\n",
    "import pandas as pd\n",
    "import matplotlib.pyplot as plt\n",
    "import statsmodels.tsa.api as smt\n",
    "from statsmodels.tsa.arima.model import ARIMA\n",
    "import statsmodels.api as sm\n"
   ]
  },
  {
   "cell_type": "code",
   "execution_count": null,
   "id": "72cd1398-d706-44f4-aaa6-fb4934e6acf5",
   "metadata": {},
   "outputs": [],
   "source": []
  },
  {
   "cell_type": "code",
   "execution_count": 4,
   "id": "5f9427bd-cf63-4ea9-8077-eafdf059da9b",
   "metadata": {},
   "outputs": [],
   "source": [
    "#carregar os dados\n",
    "data= pd.read_csv('consumo_energia.csv')\n"
   ]
  },
  {
   "cell_type": "code",
   "execution_count": 5,
   "id": "0c0f5f61-b891-42f5-accc-f073f5eadeb6",
   "metadata": {},
   "outputs": [
    {
     "data": {
      "text/plain": [
       "Index(['date', 'Usage_kWh', 'Lagging_Current_Reactive.Power_kVarh',\n",
       "       'Leading_Current_Reactive_Power_kVarh', 'CO2(tCO2)',\n",
       "       'Lagging_Current_Power_Factor', 'Leading_Current_Power_Factor', 'NSM',\n",
       "       'WeekStatus', 'Day_of_week', 'Load_Type'],\n",
       "      dtype='object')"
      ]
     },
     "execution_count": 5,
     "metadata": {},
     "output_type": "execute_result"
    }
   ],
   "source": [
    "data.columns"
   ]
  },
  {
   "cell_type": "code",
   "execution_count": 6,
   "id": "27ee2562-b43f-4813-931e-0d08858566e4",
   "metadata": {},
   "outputs": [],
   "source": [
    "data.rename(columns={'Lagging_Current_Power_Factor':'Atrasado','Leading_Current_Power_Factor':'Adiantado','Load_Type':'tipo_carga','CO2(tCO2)':'CO2'},inplace=True)"
   ]
  },
  {
   "cell_type": "code",
   "execution_count": 10,
   "id": "a378718a-0bd3-4318-8eda-c0c8c0270fea",
   "metadata": {},
   "outputs": [
    {
     "name": "stderr",
     "output_type": "stream",
     "text": [
      "/tmp/ipykernel_443046/3238796968.py:1: FutureWarning: A value is trying to be set on a copy of a DataFrame or Series through chained assignment using an inplace method.\n",
      "The behavior will change in pandas 3.0. This inplace method will never work because the intermediate object on which we are setting values always behaves as a copy.\n",
      "\n",
      "For example, when doing 'df[col].method(value, inplace=True)', try using 'df.method({col: value}, inplace=True)' or df[col] = df[col].method(value) instead, to perform the operation inplace on the original object.\n",
      "\n",
      "\n",
      "  data['tipo_carga'].replace({'Light_Load':'Carga leve','Medium_Load':'Carga Média','Maximum_Load':'Carga máxima'},inplace=True)\n"
     ]
    }
   ],
   "source": [
    "data['tipo_carga'].replace({'Light_Load':'Carga leve','Medium_Load':'Carga Média','Maximum_Load':'Carga máxima'},inplace=True)"
   ]
  },
  {
   "cell_type": "code",
   "execution_count": 11,
   "id": "b775aaa6-8f05-4a8d-aad4-dea3f11b2842",
   "metadata": {},
   "outputs": [
    {
     "data": {
      "text/html": [
       "<div>\n",
       "<style scoped>\n",
       "    .dataframe tbody tr th:only-of-type {\n",
       "        vertical-align: middle;\n",
       "    }\n",
       "\n",
       "    .dataframe tbody tr th {\n",
       "        vertical-align: top;\n",
       "    }\n",
       "\n",
       "    .dataframe thead th {\n",
       "        text-align: right;\n",
       "    }\n",
       "</style>\n",
       "<table border=\"1\" class=\"dataframe\">\n",
       "  <thead>\n",
       "    <tr style=\"text-align: right;\">\n",
       "      <th></th>\n",
       "      <th>date</th>\n",
       "      <th>Usage_kWh</th>\n",
       "      <th>Lagging_Current_Reactive.Power_kVarh</th>\n",
       "      <th>Leading_Current_Reactive_Power_kVarh</th>\n",
       "      <th>CO2</th>\n",
       "      <th>Atrasado</th>\n",
       "      <th>Adiantado</th>\n",
       "      <th>NSM</th>\n",
       "      <th>WeekStatus</th>\n",
       "      <th>Day_of_week</th>\n",
       "      <th>tipo_carga</th>\n",
       "    </tr>\n",
       "  </thead>\n",
       "  <tbody>\n",
       "    <tr>\n",
       "      <th>0</th>\n",
       "      <td>01/01/2018 00:15</td>\n",
       "      <td>3.17</td>\n",
       "      <td>2.95</td>\n",
       "      <td>0.0</td>\n",
       "      <td>0.0</td>\n",
       "      <td>73.21</td>\n",
       "      <td>100.0</td>\n",
       "      <td>900</td>\n",
       "      <td>Weekday</td>\n",
       "      <td>Monday</td>\n",
       "      <td>Carga leve</td>\n",
       "    </tr>\n",
       "    <tr>\n",
       "      <th>1</th>\n",
       "      <td>01/01/2018 00:30</td>\n",
       "      <td>4.00</td>\n",
       "      <td>4.46</td>\n",
       "      <td>0.0</td>\n",
       "      <td>0.0</td>\n",
       "      <td>66.77</td>\n",
       "      <td>100.0</td>\n",
       "      <td>1800</td>\n",
       "      <td>Weekday</td>\n",
       "      <td>Monday</td>\n",
       "      <td>Carga leve</td>\n",
       "    </tr>\n",
       "    <tr>\n",
       "      <th>2</th>\n",
       "      <td>01/01/2018 00:45</td>\n",
       "      <td>3.24</td>\n",
       "      <td>3.28</td>\n",
       "      <td>0.0</td>\n",
       "      <td>0.0</td>\n",
       "      <td>70.28</td>\n",
       "      <td>100.0</td>\n",
       "      <td>2700</td>\n",
       "      <td>Weekday</td>\n",
       "      <td>Monday</td>\n",
       "      <td>Carga leve</td>\n",
       "    </tr>\n",
       "    <tr>\n",
       "      <th>3</th>\n",
       "      <td>01/01/2018 01:00</td>\n",
       "      <td>3.31</td>\n",
       "      <td>3.56</td>\n",
       "      <td>0.0</td>\n",
       "      <td>0.0</td>\n",
       "      <td>68.09</td>\n",
       "      <td>100.0</td>\n",
       "      <td>3600</td>\n",
       "      <td>Weekday</td>\n",
       "      <td>Monday</td>\n",
       "      <td>Carga leve</td>\n",
       "    </tr>\n",
       "    <tr>\n",
       "      <th>4</th>\n",
       "      <td>01/01/2018 01:15</td>\n",
       "      <td>3.82</td>\n",
       "      <td>4.50</td>\n",
       "      <td>0.0</td>\n",
       "      <td>0.0</td>\n",
       "      <td>64.72</td>\n",
       "      <td>100.0</td>\n",
       "      <td>4500</td>\n",
       "      <td>Weekday</td>\n",
       "      <td>Monday</td>\n",
       "      <td>Carga leve</td>\n",
       "    </tr>\n",
       "  </tbody>\n",
       "</table>\n",
       "</div>"
      ],
      "text/plain": [
       "               date  Usage_kWh  Lagging_Current_Reactive.Power_kVarh  \\\n",
       "0  01/01/2018 00:15       3.17                                  2.95   \n",
       "1  01/01/2018 00:30       4.00                                  4.46   \n",
       "2  01/01/2018 00:45       3.24                                  3.28   \n",
       "3  01/01/2018 01:00       3.31                                  3.56   \n",
       "4  01/01/2018 01:15       3.82                                  4.50   \n",
       "\n",
       "   Leading_Current_Reactive_Power_kVarh  CO2  Atrasado  Adiantado   NSM  \\\n",
       "0                                   0.0  0.0     73.21      100.0   900   \n",
       "1                                   0.0  0.0     66.77      100.0  1800   \n",
       "2                                   0.0  0.0     70.28      100.0  2700   \n",
       "3                                   0.0  0.0     68.09      100.0  3600   \n",
       "4                                   0.0  0.0     64.72      100.0  4500   \n",
       "\n",
       "  WeekStatus Day_of_week  tipo_carga  \n",
       "0    Weekday      Monday  Carga leve  \n",
       "1    Weekday      Monday  Carga leve  \n",
       "2    Weekday      Monday  Carga leve  \n",
       "3    Weekday      Monday  Carga leve  \n",
       "4    Weekday      Monday  Carga leve  "
      ]
     },
     "execution_count": 11,
     "metadata": {},
     "output_type": "execute_result"
    }
   ],
   "source": [
    "data.head()"
   ]
  },
  {
   "cell_type": "code",
   "execution_count": 12,
   "id": "d76cd0a0-d863-4bcf-ba85-d66912c3be5b",
   "metadata": {},
   "outputs": [],
   "source": [
    "#separando as variaveis dependentes e independentes\n",
    "X= data[['Atrasado','Adiantado','CO2']]\n",
    "y=data['Usage_kWh']"
   ]
  },
  {
   "cell_type": "code",
   "execution_count": 13,
   "id": "45066da9-1315-40a3-84a5-4eed64585455",
   "metadata": {},
   "outputs": [
    {
     "data": {
      "text/html": [
       "<div>\n",
       "<style scoped>\n",
       "    .dataframe tbody tr th:only-of-type {\n",
       "        vertical-align: middle;\n",
       "    }\n",
       "\n",
       "    .dataframe tbody tr th {\n",
       "        vertical-align: top;\n",
       "    }\n",
       "\n",
       "    .dataframe thead th {\n",
       "        text-align: right;\n",
       "    }\n",
       "</style>\n",
       "<table border=\"1\" class=\"dataframe\">\n",
       "  <thead>\n",
       "    <tr style=\"text-align: right;\">\n",
       "      <th></th>\n",
       "      <th>const</th>\n",
       "      <th>Atrasado</th>\n",
       "      <th>Adiantado</th>\n",
       "      <th>CO2</th>\n",
       "    </tr>\n",
       "  </thead>\n",
       "  <tbody>\n",
       "    <tr>\n",
       "      <th>0</th>\n",
       "      <td>1.0</td>\n",
       "      <td>73.21</td>\n",
       "      <td>100.0</td>\n",
       "      <td>0.0</td>\n",
       "    </tr>\n",
       "    <tr>\n",
       "      <th>1</th>\n",
       "      <td>1.0</td>\n",
       "      <td>66.77</td>\n",
       "      <td>100.0</td>\n",
       "      <td>0.0</td>\n",
       "    </tr>\n",
       "    <tr>\n",
       "      <th>2</th>\n",
       "      <td>1.0</td>\n",
       "      <td>70.28</td>\n",
       "      <td>100.0</td>\n",
       "      <td>0.0</td>\n",
       "    </tr>\n",
       "    <tr>\n",
       "      <th>3</th>\n",
       "      <td>1.0</td>\n",
       "      <td>68.09</td>\n",
       "      <td>100.0</td>\n",
       "      <td>0.0</td>\n",
       "    </tr>\n",
       "    <tr>\n",
       "      <th>4</th>\n",
       "      <td>1.0</td>\n",
       "      <td>64.72</td>\n",
       "      <td>100.0</td>\n",
       "      <td>0.0</td>\n",
       "    </tr>\n",
       "  </tbody>\n",
       "</table>\n",
       "</div>"
      ],
      "text/plain": [
       "   const  Atrasado  Adiantado  CO2\n",
       "0    1.0     73.21      100.0  0.0\n",
       "1    1.0     66.77      100.0  0.0\n",
       "2    1.0     70.28      100.0  0.0\n",
       "3    1.0     68.09      100.0  0.0\n",
       "4    1.0     64.72      100.0  0.0"
      ]
     },
     "execution_count": 13,
     "metadata": {},
     "output_type": "execute_result"
    }
   ],
   "source": [
    "X= sm.add_constant(X)\n",
    "X.head()"
   ]
  },
  {
   "cell_type": "code",
   "execution_count": 9,
   "id": "582ff4aa-da77-49d3-8fd8-6e29c1891c54",
   "metadata": {},
   "outputs": [
    {
     "data": {
      "text/plain": [
       "0    3.17\n",
       "1    4.00\n",
       "2    3.24\n",
       "3    3.31\n",
       "4    3.82\n",
       "Name: Usage_kWh, dtype: float64"
      ]
     },
     "execution_count": 9,
     "metadata": {},
     "output_type": "execute_result"
    }
   ],
   "source": [
    "y.head()"
   ]
  },
  {
   "cell_type": "code",
   "execution_count": 14,
   "id": "7415e877-3e1b-4074-8cbb-85eeefbc331b",
   "metadata": {},
   "outputs": [],
   "source": [
    "#AJUSTAR MODELO ARIMA\n",
    "arima_modelo= ARIMA(y,order=(1,1,1),exog=X.values)\n",
    "arima_results=arima_modelo.fit()"
   ]
  },
  {
   "cell_type": "code",
   "execution_count": 15,
   "id": "eebdc7ea-012d-4c65-8f83-fc918b05ef2c",
   "metadata": {},
   "outputs": [
    {
     "name": "stdout",
     "output_type": "stream",
     "text": [
      "                               SARIMAX Results                                \n",
      "==============================================================================\n",
      "Dep. Variable:              Usage_kWh   No. Observations:                35040\n",
      "Model:                 ARIMA(1, 1, 1)   Log Likelihood             -100653.014\n",
      "Date:                Fri, 13 Dec 2024   AIC                         201320.028\n",
      "Time:                        22:28:15   BIC                         201379.277\n",
      "Sample:                             0   HQIC                        201338.899\n",
      "                              - 35040                                         \n",
      "Covariance Type:                  opg                                         \n",
      "==============================================================================\n",
      "                 coef    std err          z      P>|z|      [0.025      0.975]\n",
      "------------------------------------------------------------------------------\n",
      "const       1.565e-05   9.05e-10   1.73e+04      0.000    1.56e-05    1.56e-05\n",
      "x1             0.0445      0.003     13.431      0.000       0.038       0.051\n",
      "x2             0.0177      0.002      9.758      0.000       0.014       0.021\n",
      "x3          1961.9751      2.123    924.330      0.000    1957.815    1966.135\n",
      "ar.L1          0.0790      0.002     39.680      0.000       0.075       0.083\n",
      "ma.L1         -0.8270      0.001  -1046.227      0.000      -0.829      -0.825\n",
      "sigma2        18.3072      0.052    355.193      0.000      18.206      18.408\n",
      "===================================================================================\n",
      "Ljung-Box (L1) (Q):                   0.39   Jarque-Bera (JB):            428865.01\n",
      "Prob(Q):                              0.53   Prob(JB):                         0.00\n",
      "Heteroskedasticity (H):               0.58   Skew:                            -0.00\n",
      "Prob(H) (two-sided):                  0.00   Kurtosis:                        20.14\n",
      "===================================================================================\n",
      "\n",
      "Warnings:\n",
      "[1] Covariance matrix calculated using the outer product of gradients (complex-step).\n",
      "[2] Covariance matrix is singular or near-singular, with condition number 1.79e+25. Standard errors may be unstable.\n"
     ]
    }
   ],
   "source": [
    "print(arima_results.summary())"
   ]
  },
  {
   "cell_type": "code",
   "execution_count": 16,
   "id": "8311a7d3-8d12-44ee-a7f5-e4d929545634",
   "metadata": {},
   "outputs": [],
   "source": [
    "## REGRESSÃO LOGISTICA"
   ]
  },
  {
   "cell_type": "code",
   "execution_count": 19,
   "id": "e1f4f404-51b5-4819-9856-5369c3c0e51b",
   "metadata": {},
   "outputs": [],
   "source": [
    "y_logit=(data['tipo_carga']=='Carga máxima').astype(int)  # previsão de carga\n",
    "x_logit= sm.add_constant(data[['Usage_kWh','Atrasado','Adiantado']])"
   ]
  },
  {
   "cell_type": "code",
   "execution_count": 25,
   "id": "c66169f1-9340-40c4-95b0-3eac56ea54be",
   "metadata": {},
   "outputs": [
    {
     "data": {
      "text/plain": [
       "tipo_carga\n",
       "0    27768\n",
       "1     7272\n",
       "Name: count, dtype: int64"
      ]
     },
     "execution_count": 25,
     "metadata": {},
     "output_type": "execute_result"
    }
   ],
   "source": [
    "y_logit.value_counts()"
   ]
  },
  {
   "cell_type": "code",
   "execution_count": 22,
   "id": "67a96e3c-4314-40fd-9367-00ff189d632d",
   "metadata": {},
   "outputs": [
    {
     "name": "stdout",
     "output_type": "stream",
     "text": [
      "Optimization terminated successfully.\n",
      "         Current function value: 0.364896\n",
      "         Iterations 8\n"
     ]
    }
   ],
   "source": [
    "#aJUSTAR O MODELo de regressão logistica\n",
    "\n",
    "logic_model= sm.Logit(y_logit,x_logit)\n",
    "logic_result= logic_model.fit()"
   ]
  },
  {
   "cell_type": "code",
   "execution_count": 23,
   "id": "fe9af8bd-1801-4aa2-84db-b5e81d8b7323",
   "metadata": {},
   "outputs": [
    {
     "name": "stdout",
     "output_type": "stream",
     "text": [
      "                           Logit Regression Results                           \n",
      "==============================================================================\n",
      "Dep. Variable:             tipo_carga   No. Observations:                35040\n",
      "Model:                          Logit   Df Residuals:                    35036\n",
      "Method:                           MLE   Df Model:                            3\n",
      "Date:                Fri, 13 Dec 2024   Pseudo R-squ.:                  0.2855\n",
      "Time:                        22:38:02   Log-Likelihood:                -12786.\n",
      "converged:                       True   LL-Null:                       -17894.\n",
      "Covariance Type:            nonrobust   LLR p-value:                     0.000\n",
      "==============================================================================\n",
      "                 coef    std err          z      P>|z|      [0.025      0.975]\n",
      "------------------------------------------------------------------------------\n",
      "const        -11.5010      0.199    -57.712      0.000     -11.892     -11.110\n",
      "Usage_kWh      0.0151      0.001     26.713      0.000       0.014       0.016\n",
      "Atrasado       0.0772      0.002     44.445      0.000       0.074       0.081\n",
      "Adiantado      0.0331      0.001     34.846      0.000       0.031       0.035\n",
      "==============================================================================\n"
     ]
    }
   ],
   "source": [
    "# imprimir o sumario de resultados\n",
    "print(logic_result.summary())"
   ]
  },
  {
   "cell_type": "code",
   "execution_count": null,
   "id": "2c5c0c94-18ce-45ee-b223-9658963a92ac",
   "metadata": {},
   "outputs": [],
   "source": []
  }
 ],
 "metadata": {
  "kernelspec": {
   "display_name": "Python 3 (ipykernel)",
   "language": "python",
   "name": "python3"
  },
  "language_info": {
   "codemirror_mode": {
    "name": "ipython",
    "version": 3
   },
   "file_extension": ".py",
   "mimetype": "text/x-python",
   "name": "python",
   "nbconvert_exporter": "python",
   "pygments_lexer": "ipython3",
   "version": "3.10.12"
  }
 },
 "nbformat": 4,
 "nbformat_minor": 5
}
