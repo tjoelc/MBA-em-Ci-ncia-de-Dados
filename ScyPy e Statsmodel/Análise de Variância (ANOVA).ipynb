{
 "cells": [
  {
   "cell_type": "markdown",
   "id": "925da1ff-4017-433e-984a-fabeb1d408b5",
   "metadata": {},
   "source": [
    "MBA Ciencia de Dados ----Análise de Variância (ANOVA)\n",
    "\n",
    "aluno: Joel Campos Teixeira"
   ]
  },
  {
   "cell_type": "code",
   "execution_count": 1,
   "id": "a7ae6b87-8e31-4521-9859-017135e30e6a",
   "metadata": {},
   "outputs": [],
   "source": [
    "# importando as bibliotecas\n",
    "import pandas as pd\n",
    "import numpy as np\n",
    "import scipy.stats as stats\n"
   ]
  },
  {
   "cell_type": "code",
   "execution_count": 5,
   "id": "5ae3c51c-4551-4828-ac6a-67586275294e",
   "metadata": {},
   "outputs": [
    {
     "data": {
      "text/html": [
       "<div>\n",
       "<style scoped>\n",
       "    .dataframe tbody tr th:only-of-type {\n",
       "        vertical-align: middle;\n",
       "    }\n",
       "\n",
       "    .dataframe tbody tr th {\n",
       "        vertical-align: top;\n",
       "    }\n",
       "\n",
       "    .dataframe thead th {\n",
       "        text-align: right;\n",
       "    }\n",
       "</style>\n",
       "<table border=\"1\" class=\"dataframe\">\n",
       "  <thead>\n",
       "    <tr style=\"text-align: right;\">\n",
       "      <th></th>\n",
       "      <th>grupo</th>\n",
       "      <th>valores</th>\n",
       "    </tr>\n",
       "  </thead>\n",
       "  <tbody>\n",
       "    <tr>\n",
       "      <th>85</th>\n",
       "      <td>Grupo3</td>\n",
       "      <td>11.489546</td>\n",
       "    </tr>\n",
       "    <tr>\n",
       "      <th>86</th>\n",
       "      <td>Grupo3</td>\n",
       "      <td>13.029709</td>\n",
       "    </tr>\n",
       "    <tr>\n",
       "      <th>87</th>\n",
       "      <td>Grupo3</td>\n",
       "      <td>9.002344</td>\n",
       "    </tr>\n",
       "    <tr>\n",
       "      <th>88</th>\n",
       "      <td>Grupo3</td>\n",
       "      <td>10.728429</td>\n",
       "    </tr>\n",
       "    <tr>\n",
       "      <th>89</th>\n",
       "      <td>Grupo3</td>\n",
       "      <td>9.534051</td>\n",
       "    </tr>\n",
       "  </tbody>\n",
       "</table>\n",
       "</div>"
      ],
      "text/plain": [
       "     grupo    valores\n",
       "85  Grupo3  11.489546\n",
       "86  Grupo3  13.029709\n",
       "87  Grupo3   9.002344\n",
       "88  Grupo3  10.728429\n",
       "89  Grupo3   9.534051"
      ]
     },
     "execution_count": 5,
     "metadata": {},
     "output_type": "execute_result"
    }
   ],
   "source": [
    "# Exemplo de dados\n",
    "np.random.seed # criando a semente de numeros\n",
    "grupo1 = np.random.normal(10,2,30)\n",
    "grupo2 = np.random.normal(12,2,30)\n",
    "grupo3 = np.random.normal(11,2,30)\n",
    "\n",
    "#Criando o dataframe\n",
    "data = pd.DataFrame({'grupo': np.repeat(['Grupo1','Grupo2','Grupo3'],30),\n",
    "                    'valores': np.concatenate([grupo1,grupo2,grupo3])})\n",
    "data.tail()"
   ]
  },
  {
   "cell_type": "code",
   "execution_count": 7,
   "id": "62e11300-bdf0-4de5-b653-204a4b7bcdaa",
   "metadata": {},
   "outputs": [
    {
     "data": {
      "text/plain": [
       "grupo\n",
       "Grupo1     9.912908\n",
       "Grupo2    12.323106\n",
       "Grupo3    11.426671\n",
       "Name: valores, dtype: float64"
      ]
     },
     "execution_count": 7,
     "metadata": {},
     "output_type": "execute_result"
    }
   ],
   "source": [
    "data.groupby('grupo')['valores'].mean()"
   ]
  },
  {
   "cell_type": "code",
   "execution_count": 8,
   "id": "33c1033d-877b-4f4f-a826-8fd0c22709e5",
   "metadata": {},
   "outputs": [
    {
     "name": "stdout",
     "output_type": "stream",
     "text": [
      "Estatistica:F  13.621936263231735\n",
      "Valor p: 7.1343702539372346e-06\n"
     ]
    }
   ],
   "source": [
    "# anova de um fator \n",
    "anova_resul =stats.f_oneway(grupo1,grupo2,grupo3)\n",
    "print('Estatistica:F ', anova_resul.statistic)\n",
    "print('Valor p:', anova_resul.pvalue)\n"
   ]
  },
  {
   "cell_type": "code",
   "execution_count": 9,
   "id": "32573c93-576f-4f37-a506-8fc8ceb7762b",
   "metadata": {},
   "outputs": [],
   "source": [
    "# TESTE AB"
   ]
  },
  {
   "cell_type": "code",
   "execution_count": 10,
   "id": "6f3cc080-a4d8-4a25-a30f-bd279602acc5",
   "metadata": {},
   "outputs": [
    {
     "data": {
      "text/plain": [
       "array([13.52810469, 10.80031442, 11.95747597, 14.4817864 , 13.73511598,\n",
       "        8.04544424, 11.90017684,  9.69728558,  9.7935623 , 10.821197  ,\n",
       "       10.28808714, 12.90854701, 11.52207545, 10.24335003, 10.88772647,\n",
       "       10.66734865, 12.98815815,  9.58968347, 10.6261354 ,  8.29180852,\n",
       "        4.89402037, 11.30723719, 11.7288724 ,  8.51566996, 14.53950925,\n",
       "        7.09126865, 10.09151703,  9.6256323 , 13.06555843, 12.93871754])"
      ]
     },
     "execution_count": 10,
     "metadata": {},
     "output_type": "execute_result"
    }
   ],
   "source": [
    "import scipy.stats as stats\n",
    "\n",
    "#Exemplo de dados\n",
    "\n",
    "np.random.seed(0)\n",
    "\n",
    "grupo_A= np.random.normal(10,2,30)\n",
    "grupo_B= np.random.normal(12,2,30)\n",
    "\n",
    "grupo_A"
   ]
  },
  {
   "cell_type": "code",
   "execution_count": 11,
   "id": "52a3dda8-f191-4bce-8812-360cfed45f30",
   "metadata": {},
   "outputs": [],
   "source": [
    "# Teste t de amostras independentes"
   ]
  },
  {
   "cell_type": "code",
   "execution_count": 12,
   "id": "80a2ac91-0392-4509-a84d-d4978241a421",
   "metadata": {},
   "outputs": [
    {
     "name": "stdout",
     "output_type": "stream",
     "text": [
      "Estatistica F: -1.0246375585969996\n",
      "Valor P:  0.30978886450466103\n"
     ]
    }
   ],
   "source": [
    "t_test_result = stats.ttest_ind(grupo_A,grupo_B)\n",
    "print('Estatistica F:',t_test_result.statistic)\n",
    "print('Valor P: ',t_test_result.pvalue)"
   ]
  },
  {
   "cell_type": "code",
   "execution_count": null,
   "id": "235f0d92-7aa6-4711-a3b6-293297472b3d",
   "metadata": {},
   "outputs": [],
   "source": []
  }
 ],
 "metadata": {
  "kernelspec": {
   "display_name": "Python 3 (ipykernel)",
   "language": "python",
   "name": "python3"
  },
  "language_info": {
   "codemirror_mode": {
    "name": "ipython",
    "version": 3
   },
   "file_extension": ".py",
   "mimetype": "text/x-python",
   "name": "python",
   "nbconvert_exporter": "python",
   "pygments_lexer": "ipython3",
   "version": "3.10.12"
  }
 },
 "nbformat": 4,
 "nbformat_minor": 5
}
